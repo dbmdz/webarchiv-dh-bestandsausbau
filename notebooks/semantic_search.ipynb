{
 "cells": [
  {
   "cell_type": "markdown",
   "metadata": {},
   "source": [
    "# Textähnlichkeitssuche im Linkkontext\n",
    "Um neue archivierungswürdige Webinhalte für eine Sammlung zu finden, werten wir die Links in archivierten Websites aus. Mit Hilfe des [Archives Unleashed Toolkit](https://archivesunleashed.org/aut/) haben wir neben dem Linkziel auch den Textkontext des Links aus den archivierten HTML-Dokumenten extrahiert. Zusätzlich haben wir die Links mit thematischen Schlagworten aus dem [OPAC der Bayerischen Staatsbibliothek](https://opacplus.bsb-muenchen.de) angereichert, mit denen Bibliothekar\\*innen die archivierten Ausgangswebsites beschrieben haben.  \n",
    "Anschließend haben wir mit [Sentence-Transformers](https://www.sbert.net) Satzembeddings für den Linkkontext erzeugt und mit der Suchmaschine [vespa](https://vespa.ai/) indexiert.  \n",
    "Bibliothekar\\*innen sollen so gezielt im Linkkontext nach Webinhalten zu bestimmten Themen suchen oder anhand des Schlagwortfilters die Links durchstöbern können, die von einer archivierten Website zu einem Thema ausgehen.  \n",
    "Anders als bei der klassischen Volltextsuche können Nutzer\\*innen hier mit natürlichsprachigen Sätzen statt einzelner Begriffe suchen. Das Sentence-Transformer Modell bildet die Anfrage und den Linkkontext so auf einen Vektorraum ab, dass Sätze mit ähnlichem semantischem Gehalt nahe beieinander liegen. Dadurch, dass die einzelnen Begriffe in ihrem Satzzusammenhang ausgewertet werden, kann das Modell auch kontextabhängig zwischen verschiedenen Bedeutungen eines Begriffs unterscheiden."
   ]
  },
  {
   "cell_type": "code",
   "execution_count": null,
   "metadata": {
    "pycharm": {
     "name": "#%%\n"
    }
   },
   "outputs": [],
   "source": [
    "from vespa.application import Vespa\n",
    "from ipywidgets import HTML, Text, Button, Layout, SelectMultiple, Accordion\n",
    "from sentence_transformers import SentenceTransformer\n",
    "from util.vespa_helper.queries import get_facets, get_links\n",
    "from util.vespa_helper.result_formatter import write_domain_table\n",
    "import re\n",
    "\n",
    "display(HTML('''<style>\n",
    "    .widget-label { min-width: 25ex !important; }\n",
    "</style>\n",
    "'''))\n",
    "\n",
    "\n",
    "vespa_url = \"http://localhost:8080/search\"\n",
    "    \n",
    "annotations = get_facets(vespa_url, \"src_annotations\")\n",
    "   \n",
    "\n",
    "def display_results(b):\n",
    "    links = get_links(vespa_url, query_input.value, facets.value, 100)\n",
    "    groups = links.hits[0].get(\"children\", [])\n",
    "    for group in groups:\n",
    "        if group.get(\"label\") == \"domain\":\n",
    "            domain_groups = group.get(\"children\", [])\n",
    "            domain_tables = []\n",
    "            for i, domain_group in enumerate(domain_groups):\n",
    "                acc.set_title(i, f\"{i+1}. {domain_group.get('value')}\")\n",
    "                domain_table = write_domain_table(domain_group.get(\"children\", [])[0])\n",
    "                domain_tables.append(HTML(domain_table))\n",
    "            acc.children = domain_tables\n",
    "              \n",
    "\n",
    "facets = SelectMultiple(\n",
    "    options=annotations,\n",
    "    description='<b>Filter nach Schlagwort: </b>',\n",
    "    disabled=False,\n",
    "    layout=Layout(width=\"70%\", height=\"100%\")\n",
    ")  \n",
    "default_query = \"Entdecken Sie die Vielfalt der bayerischen Sprache!\"\n",
    "query_input = Text(value=default_query, description=\"<b>Suche nach: </b>\", layout=Layout(width=\"70%\"))\n",
    "acc = Accordion(selected_index=None)\n",
    "button = Button(description=\"Suche starten\")\n",
    "button.on_click(display_results)\n",
    "display(facets,query_input, button, acc)\n"
   ]
  }
 ],
 "metadata": {
  "kernelspec": {
   "display_name": "Python 3",
   "language": "python",
   "name": "python3"
  },
  "language_info": {
   "codemirror_mode": {
    "name": "ipython",
    "version": 3
   },
   "file_extension": ".py",
   "mimetype": "text/x-python",
   "name": "python",
   "nbconvert_exporter": "python",
   "pygments_lexer": "ipython3",
   "version": "3.8.5"
  }
 },
 "nbformat": 4,
 "nbformat_minor": 1
}
